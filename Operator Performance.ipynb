{
 "cells": [
  {
   "cell_type": "markdown",
   "id": "8cf78823",
   "metadata": {},
   "source": [
    "### Project Setup "
   ]
  },
  {
   "cell_type": "code",
   "execution_count": 1,
   "id": "453090bd",
   "metadata": {},
   "outputs": [],
   "source": [
    "from matplotlib import figure\n",
    "from matplotlib.markers import MarkerStyle\n",
    "from datetime import datetime\n",
    "import matplotlib.pyplot as plt\n",
    "import numpy as np\n",
    "import pandas as pd\n",
    "import smtplib\n",
    "import pyodbc\n",
    "import sqlalchemy \n",
    "from sqlalchemy import create_engine"
   ]
  },
  {
   "cell_type": "markdown",
   "id": "d74f6dfa",
   "metadata": {},
   "source": [
    "### Database Connection"
   ]
  },
  {
   "cell_type": "code",
   "execution_count": 2,
   "id": "2abfd34a",
   "metadata": {},
   "outputs": [],
   "source": [
    "conn = pyodbc.connect('DRIVER={SQL Server};'\n",
    "                          'SERVER=KANWKS4032;'\n",
    "                          'DATABASE=OperatorPerformance;'\n",
    "                          'UID=sa;'\n",
    "                          'PWD=test1234')"
   ]
  },
  {
   "cell_type": "markdown",
   "id": "fc099528",
   "metadata": {},
   "source": [
    "### 1. Read all data"
   ]
  },
  {
   "cell_type": "code",
   "execution_count": 3,
   "id": "23279563",
   "metadata": {},
   "outputs": [],
   "source": [
    "all_query = (\n",
    "    '''\n",
    "                SELECT [ShiftDate]\n",
    "                    ,[MineNo]\n",
    "                    ,[OperatorName]\n",
    "                    ,[Digger]\n",
    "                    ,[Model]\n",
    "                    ,[Cutback]\n",
    "                    ,[Loading]\n",
    "                    ,[Spotting]\n",
    "                FROM [OperatorPerformance].[dbo].[DiggerOperatorPerformance]\n",
    "                ORDER BY [Loading] DESC\n",
    "            '''\n",
    ")"
   ]
  },
  {
   "cell_type": "code",
   "execution_count": 4,
   "id": "7106843c",
   "metadata": {},
   "outputs": [
    {
     "name": "stderr",
     "output_type": "stream",
     "text": [
      "C:\\Users\\mnzunda\\AppData\\Local\\Temp\\ipykernel_35796\\322622272.py:1: UserWarning: pandas only supports SQLAlchemy connectable (engine/connection) or database string URI or sqlite3 DBAPI2 connection. Other DBAPI2 objects are not tested. Please consider using SQLAlchemy.\n",
      "  df = pd.read_sql(all_query, conn)\n"
     ]
    }
   ],
   "source": [
    "df = pd.read_sql(all_query, conn)"
   ]
  },
  {
   "cell_type": "code",
   "execution_count": 5,
   "id": "8a56588d",
   "metadata": {
    "scrolled": false
   },
   "outputs": [
    {
     "data": {
      "text/html": [
       "<div>\n",
       "<style scoped>\n",
       "    .dataframe tbody tr th:only-of-type {\n",
       "        vertical-align: middle;\n",
       "    }\n",
       "\n",
       "    .dataframe tbody tr th {\n",
       "        vertical-align: top;\n",
       "    }\n",
       "\n",
       "    .dataframe thead th {\n",
       "        text-align: right;\n",
       "    }\n",
       "</style>\n",
       "<table border=\"1\" class=\"dataframe\">\n",
       "  <thead>\n",
       "    <tr style=\"text-align: right;\">\n",
       "      <th></th>\n",
       "      <th>ShiftDate</th>\n",
       "      <th>MineNo</th>\n",
       "      <th>OperatorName</th>\n",
       "      <th>Digger</th>\n",
       "      <th>Model</th>\n",
       "      <th>Cutback</th>\n",
       "      <th>Loading</th>\n",
       "      <th>Spotting</th>\n",
       "    </tr>\n",
       "  </thead>\n",
       "  <tbody>\n",
       "    <tr>\n",
       "      <th>0</th>\n",
       "      <td>2022-11-27</td>\n",
       "      <td>001146</td>\n",
       "      <td>Oscar Ngulube</td>\n",
       "      <td>EX58</td>\n",
       "      <td>LIEBHERR 9350 E</td>\n",
       "      <td>M17</td>\n",
       "      <td>18171.0</td>\n",
       "      <td>0.0</td>\n",
       "    </tr>\n",
       "    <tr>\n",
       "      <th>1</th>\n",
       "      <td>2022-11-27</td>\n",
       "      <td>004250</td>\n",
       "      <td>Mukuka Mulenga</td>\n",
       "      <td>EX69</td>\n",
       "      <td>LIEBHERR 9250</td>\n",
       "      <td>M12</td>\n",
       "      <td>18040.0</td>\n",
       "      <td>0.0</td>\n",
       "    </tr>\n",
       "    <tr>\n",
       "      <th>2</th>\n",
       "      <td>2022-11-27</td>\n",
       "      <td>008629</td>\n",
       "      <td>Leonard Kalukangu</td>\n",
       "      <td>EX108</td>\n",
       "      <td>LIEBHERR 9350</td>\n",
       "      <td>M11</td>\n",
       "      <td>17924.0</td>\n",
       "      <td>56.0</td>\n",
       "    </tr>\n",
       "    <tr>\n",
       "      <th>3</th>\n",
       "      <td>2022-11-27</td>\n",
       "      <td>004471</td>\n",
       "      <td>Terence Chilufya</td>\n",
       "      <td>EX59</td>\n",
       "      <td>LIEBHERR 9350 E</td>\n",
       "      <td>M13</td>\n",
       "      <td>17905.0</td>\n",
       "      <td>0.0</td>\n",
       "    </tr>\n",
       "    <tr>\n",
       "      <th>4</th>\n",
       "      <td>2022-03-09</td>\n",
       "      <td>008547</td>\n",
       "      <td>Geoffery Kapini</td>\n",
       "      <td>EX72</td>\n",
       "      <td>LIEBHERR 9350</td>\n",
       "      <td>M17</td>\n",
       "      <td>5454.0</td>\n",
       "      <td>0.0</td>\n",
       "    </tr>\n",
       "    <tr>\n",
       "      <th>...</th>\n",
       "      <td>...</td>\n",
       "      <td>...</td>\n",
       "      <td>...</td>\n",
       "      <td>...</td>\n",
       "      <td>...</td>\n",
       "      <td>...</td>\n",
       "      <td>...</td>\n",
       "      <td>...</td>\n",
       "    </tr>\n",
       "    <tr>\n",
       "      <th>757361</th>\n",
       "      <td>2022-10-05</td>\n",
       "      <td>004162</td>\n",
       "      <td>Kenneth Kasauntu</td>\n",
       "      <td>EX62</td>\n",
       "      <td>LIEBHERR 984</td>\n",
       "      <td>M11</td>\n",
       "      <td>NaN</td>\n",
       "      <td>NaN</td>\n",
       "    </tr>\n",
       "    <tr>\n",
       "      <th>757362</th>\n",
       "      <td>2022-10-05</td>\n",
       "      <td>008542</td>\n",
       "      <td>Brighton Malambo</td>\n",
       "      <td>EX70</td>\n",
       "      <td>LIEBHERR 9250</td>\n",
       "      <td>M12</td>\n",
       "      <td>NaN</td>\n",
       "      <td>NaN</td>\n",
       "    </tr>\n",
       "    <tr>\n",
       "      <th>757363</th>\n",
       "      <td>2022-11-03</td>\n",
       "      <td>008600</td>\n",
       "      <td>Jason Chumfwa</td>\n",
       "      <td>EX72</td>\n",
       "      <td>LIEBHERR 9350</td>\n",
       "      <td>M12</td>\n",
       "      <td>NaN</td>\n",
       "      <td>NaN</td>\n",
       "    </tr>\n",
       "    <tr>\n",
       "      <th>757364</th>\n",
       "      <td>2022-11-02</td>\n",
       "      <td>003570</td>\n",
       "      <td>Titus Kwenda</td>\n",
       "      <td>EX59</td>\n",
       "      <td>LIEBHERR 9350 E</td>\n",
       "      <td>M13</td>\n",
       "      <td>NaN</td>\n",
       "      <td>NaN</td>\n",
       "    </tr>\n",
       "    <tr>\n",
       "      <th>757365</th>\n",
       "      <td>2022-12-25</td>\n",
       "      <td>003301</td>\n",
       "      <td>Justine Chinyingi</td>\n",
       "      <td>EX108</td>\n",
       "      <td>LIEBHERR 9350</td>\n",
       "      <td>M17</td>\n",
       "      <td>NaN</td>\n",
       "      <td>NaN</td>\n",
       "    </tr>\n",
       "  </tbody>\n",
       "</table>\n",
       "<p>757366 rows × 8 columns</p>\n",
       "</div>"
      ],
      "text/plain": [
       "        ShiftDate  MineNo       OperatorName Digger            Model Cutback  \\\n",
       "0      2022-11-27  001146      Oscar Ngulube   EX58  LIEBHERR 9350 E     M17   \n",
       "1      2022-11-27  004250     Mukuka Mulenga   EX69    LIEBHERR 9250     M12   \n",
       "2      2022-11-27  008629  Leonard Kalukangu  EX108    LIEBHERR 9350     M11   \n",
       "3      2022-11-27  004471   Terence Chilufya   EX59  LIEBHERR 9350 E     M13   \n",
       "4      2022-03-09  008547    Geoffery Kapini   EX72    LIEBHERR 9350     M17   \n",
       "...           ...     ...                ...    ...              ...     ...   \n",
       "757361 2022-10-05  004162   Kenneth Kasauntu   EX62     LIEBHERR 984     M11   \n",
       "757362 2022-10-05  008542   Brighton Malambo   EX70    LIEBHERR 9250     M12   \n",
       "757363 2022-11-03  008600      Jason Chumfwa   EX72    LIEBHERR 9350     M12   \n",
       "757364 2022-11-02  003570       Titus Kwenda   EX59  LIEBHERR 9350 E     M13   \n",
       "757365 2022-12-25  003301  Justine Chinyingi  EX108    LIEBHERR 9350     M17   \n",
       "\n",
       "        Loading  Spotting  \n",
       "0       18171.0       0.0  \n",
       "1       18040.0       0.0  \n",
       "2       17924.0      56.0  \n",
       "3       17905.0       0.0  \n",
       "4        5454.0       0.0  \n",
       "...         ...       ...  \n",
       "757361      NaN       NaN  \n",
       "757362      NaN       NaN  \n",
       "757363      NaN       NaN  \n",
       "757364      NaN       NaN  \n",
       "757365      NaN       NaN  \n",
       "\n",
       "[757366 rows x 8 columns]"
      ]
     },
     "execution_count": 5,
     "metadata": {},
     "output_type": "execute_result"
    }
   ],
   "source": [
    "df"
   ]
  },
  {
   "cell_type": "markdown",
   "id": "51b4a2d9",
   "metadata": {},
   "source": [
    "### 2. Transactions Per Operator\n",
    "* 2.1 Find count of transactions per operator\n",
    "* 2.2 Find avearage count of transactions for all operators\n",
    "* 2.3 Find count of transactions per operator above average"
   ]
  },
  {
   "cell_type": "markdown",
   "id": "2715ca72",
   "metadata": {},
   "source": [
    "#### 2.1 Transaction count per operator"
   ]
  },
  {
   "cell_type": "code",
   "execution_count": null,
   "id": "b57d1d6f",
   "metadata": {},
   "outputs": [],
   "source": [
    "operator_count_query = (\n",
    "        '''\n",
    "                    SELECT COUNT(*) AS LoadCount, [MineNo]\n",
    "                    FROM [OperatorPerformance].[dbo].[DiggerOperatorPerformance]\n",
    "                    GROUP BY [MineNo]\n",
    "                    ORDER BY COUNT(*) DESC\n",
    "                '''\n",
    "    )"
   ]
  },
  {
   "cell_type": "code",
   "execution_count": null,
   "id": "886d4b14",
   "metadata": {},
   "outputs": [],
   "source": [
    "df_operator_count = pd.read_sql(operator_count_query, conn)"
   ]
  },
  {
   "cell_type": "code",
   "execution_count": null,
   "id": "7cbf176d",
   "metadata": {
    "scrolled": true
   },
   "outputs": [],
   "source": [
    "df_operator_count "
   ]
  },
  {
   "cell_type": "markdown",
   "id": "45408144",
   "metadata": {},
   "source": [
    "##### Export result to csv file"
   ]
  },
  {
   "cell_type": "code",
   "execution_count": null,
   "id": "be16558b",
   "metadata": {},
   "outputs": [],
   "source": [
    "df_operator_count.to_csv('operator_count.csv')"
   ]
  },
  {
   "cell_type": "markdown",
   "id": "cead3a48",
   "metadata": {},
   "source": [
    "##### Barchart - Transactions per operator"
   ]
  },
  {
   "cell_type": "code",
   "execution_count": null,
   "id": "d613c3d2",
   "metadata": {},
   "outputs": [],
   "source": [
    "df_operator_count.LoadCount.plot.barh()"
   ]
  },
  {
   "cell_type": "markdown",
   "id": "0f7cc5df",
   "metadata": {},
   "source": [
    "##### LineChart - Transactions per operator"
   ]
  },
  {
   "cell_type": "code",
   "execution_count": null,
   "id": "cef2e1c9",
   "metadata": {
    "scrolled": true
   },
   "outputs": [],
   "source": [
    "df_operator_count['LoadCount'].plot()"
   ]
  },
  {
   "cell_type": "markdown",
   "id": "861f8c5a",
   "metadata": {},
   "source": [
    "#### 2.2 Average Transactions Per Operator"
   ]
  },
  {
   "cell_type": "code",
   "execution_count": null,
   "id": "4853d710",
   "metadata": {},
   "outputs": [],
   "source": [
    "avg_operator_transactions = (\n",
    "        '''\n",
    "                    SELECT AVG(Transactions.LoadCount) AS AverageTransactions\n",
    "                    FROM \n",
    "                    (SELECT COUNT(*) AS LoadCount, [MineNo]\n",
    "                    FROM [OperatorPerformance].[dbo].[DiggerOperatorPerformance]\n",
    "                    GROUP BY [MineNo]) as Transactions\n",
    "                '''\n",
    "    )"
   ]
  },
  {
   "cell_type": "code",
   "execution_count": null,
   "id": "93b60719",
   "metadata": {},
   "outputs": [],
   "source": [
    "df_avg_operator_transactions = pd.read_sql(avg_operator_transactions, conn)\n",
    "df_avg_operator_transactions"
   ]
  },
  {
   "cell_type": "markdown",
   "id": "6e892937",
   "metadata": {},
   "source": [
    "#### 2.3 Transactions above average per operator"
   ]
  },
  {
   "cell_type": "code",
   "execution_count": null,
   "id": "e78fe6c5",
   "metadata": {},
   "outputs": [],
   "source": [
    "top_operator_count_query = (\n",
    "        '''\n",
    "                    SELECT TOP 79 COUNT(*) AS LoadCount, [MineNo]\n",
    "                    FROM [OperatorPerformance].[dbo].[DiggerOperatorPerformance]\n",
    "                    GROUP BY [MineNo]\n",
    "                    ORDER BY COUNT(*) DESC\n",
    "                '''\n",
    "    )"
   ]
  },
  {
   "cell_type": "code",
   "execution_count": null,
   "id": "3b5b2ab6",
   "metadata": {
    "scrolled": true
   },
   "outputs": [],
   "source": [
    "df_top_operator_count = pd.read_sql(top_operator_count_query, conn)"
   ]
  },
  {
   "cell_type": "code",
   "execution_count": null,
   "id": "56924e53",
   "metadata": {
    "scrolled": false
   },
   "outputs": [],
   "source": [
    "df_top_operator_count "
   ]
  },
  {
   "cell_type": "code",
   "execution_count": null,
   "id": "61423b12",
   "metadata": {
    "scrolled": true
   },
   "outputs": [],
   "source": [
    "df_top_operator_count.LoadCount.plot.barh()"
   ]
  },
  {
   "cell_type": "code",
   "execution_count": null,
   "id": "37cec47a",
   "metadata": {
    "scrolled": false
   },
   "outputs": [],
   "source": [
    "df_top_operator_count['LoadCount'].plot()"
   ]
  },
  {
   "cell_type": "markdown",
   "id": "ab94fd13",
   "metadata": {},
   "source": [
    "### 3. Number of Transactions \n",
    "* 3.1 Cutback\n",
    "* 3.2 Digger\n",
    "* 3.2 Model"
   ]
  },
  {
   "cell_type": "markdown",
   "id": "2550d5d0",
   "metadata": {},
   "source": [
    "#### 3.1 Transactions per Cutback"
   ]
  },
  {
   "cell_type": "code",
   "execution_count": null,
   "id": "123c021b",
   "metadata": {},
   "outputs": [],
   "source": [
    "count_cutback_query = (\n",
    "        '''\n",
    "                    SELECT COUNT(*) AS CutbackTrans, [Cutback]\n",
    "                    FROM [OperatorPerformance].[dbo].[DiggerOperatorPerformance]\n",
    "                    GROUP BY [Cutback]\n",
    "                    ORDER BY COUNT(*) DESC\n",
    "                '''\n",
    "    )"
   ]
  },
  {
   "cell_type": "code",
   "execution_count": null,
   "id": "9efc65fc",
   "metadata": {
    "scrolled": false
   },
   "outputs": [],
   "source": [
    "df_count_cutback = pd.read_sql(count_cutback_query, conn)"
   ]
  },
  {
   "cell_type": "code",
   "execution_count": null,
   "id": "0d88dd79",
   "metadata": {
    "scrolled": false
   },
   "outputs": [],
   "source": [
    "df_count_cutback"
   ]
  },
  {
   "cell_type": "markdown",
   "id": "f8b38ac7",
   "metadata": {},
   "source": [
    "#### 3.2 Transactions per Digger"
   ]
  },
  {
   "cell_type": "code",
   "execution_count": null,
   "id": "ccc39a3e",
   "metadata": {},
   "outputs": [],
   "source": [
    "count_digger_query = (\n",
    "        '''\n",
    "                    SELECT COUNT(*) AS DiggerTrans, [Digger]\n",
    "                    FROM [OperatorPerformance].[dbo].[DiggerOperatorPerformance]\n",
    "                    GROUP BY [Digger]\n",
    "                    ORDER BY COUNT(*) DESC\n",
    "                '''\n",
    "    )"
   ]
  },
  {
   "cell_type": "code",
   "execution_count": null,
   "id": "ffcff56a",
   "metadata": {
    "scrolled": false
   },
   "outputs": [],
   "source": [
    "df_count_digger = pd.read_sql(count_digger_query, conn)"
   ]
  },
  {
   "cell_type": "code",
   "execution_count": null,
   "id": "cb19eabc",
   "metadata": {
    "scrolled": false
   },
   "outputs": [],
   "source": [
    "df_count_digger"
   ]
  },
  {
   "cell_type": "markdown",
   "id": "bd5fe84a",
   "metadata": {},
   "source": [
    "#### 3.3 Transactions per Model"
   ]
  },
  {
   "cell_type": "code",
   "execution_count": null,
   "id": "e977df4d",
   "metadata": {},
   "outputs": [],
   "source": [
    "count_model_query = (\n",
    "        '''\n",
    "                    SELECT COUNT(*) AS CutbackTrans, [Model]\n",
    "                    FROM [OperatorPerformance].[dbo].[DiggerOperatorPerformance]\n",
    "                    GROUP BY [Model]\n",
    "                    ORDER BY COUNT(*) DESC\n",
    "                '''\n",
    "    )"
   ]
  },
  {
   "cell_type": "code",
   "execution_count": null,
   "id": "3d88eba0",
   "metadata": {
    "scrolled": true
   },
   "outputs": [],
   "source": [
    "df_count_model = pd.read_sql(count_model_query, conn)"
   ]
  },
  {
   "cell_type": "code",
   "execution_count": null,
   "id": "ed38e663",
   "metadata": {
    "scrolled": false
   },
   "outputs": [],
   "source": [
    "df_count_model"
   ]
  },
  {
   "cell_type": "markdown",
   "id": "26588bd5",
   "metadata": {},
   "source": [
    "### 4. Mean and Standard Deviation for Loading and Spotting Time\n",
    "* 4.1 Standard Deviation\n",
    "* 4.2 Mean"
   ]
  },
  {
   "cell_type": "markdown",
   "id": "c6738fc3",
   "metadata": {},
   "source": [
    "#### 4.1 Standard Deviation for Loading time and Spotting time"
   ]
  },
  {
   "cell_type": "code",
   "execution_count": 18,
   "id": "b2fdc4b1",
   "metadata": {
    "scrolled": true
   },
   "outputs": [
    {
     "name": "stderr",
     "output_type": "stream",
     "text": [
      "C:\\Users\\mnzunda\\AppData\\Local\\Temp\\ipykernel_35796\\2996963263.py:1: FutureWarning: The default value of numeric_only in DataFrame.std is deprecated. In a future version, it will default to False. In addition, specifying 'numeric_only=None' is deprecated. Select only valid columns or specify the value of numeric_only to silence this warning.\n",
      "  df.std(axis = 0, skipna = True)\n"
     ]
    },
    {
     "data": {
      "text/plain": [
       "ShiftDate    102 days 17:02:25.301893337\n",
       "Loading                       104.047509\n",
       "Spotting                       69.503963\n",
       "dtype: object"
      ]
     },
     "execution_count": 18,
     "metadata": {},
     "output_type": "execute_result"
    }
   ],
   "source": [
    "df.std(axis = 0, skipna = True)"
   ]
  },
  {
   "cell_type": "markdown",
   "id": "cefda094",
   "metadata": {},
   "source": [
    "#### 4.2 Mean for Loading time and Spotting time"
   ]
  },
  {
   "cell_type": "code",
   "execution_count": 12,
   "id": "34dd9308",
   "metadata": {
    "scrolled": false
   },
   "outputs": [],
   "source": [
    "avg_loading_spotting_query = (\n",
    "                '''\n",
    "                    SELECT AVG([Loading]) AS AverageLoadingTime\n",
    "                    FROM [OperatorPerformance].[dbo].[DiggerOperatorPerformance]\n",
    "                '''\n",
    "    )"
   ]
  },
  {
   "cell_type": "code",
   "execution_count": 13,
   "id": "10a9975c",
   "metadata": {},
   "outputs": [
    {
     "name": "stderr",
     "output_type": "stream",
     "text": [
      "C:\\Users\\mnzunda\\AppData\\Local\\Temp\\ipykernel_35796\\867220978.py:1: UserWarning: pandas only supports SQLAlchemy connectable (engine/connection) or database string URI or sqlite3 DBAPI2 connection. Other DBAPI2 objects are not tested. Please consider using SQLAlchemy.\n",
      "  df_avg_loading_spotting = pd.read_sql(avg_loading_spotting_query, conn)\n"
     ]
    }
   ],
   "source": [
    "df_avg_loading_spotting = pd.read_sql(avg_loading_spotting_query, conn)"
   ]
  },
  {
   "cell_type": "code",
   "execution_count": 14,
   "id": "48af75ce",
   "metadata": {},
   "outputs": [
    {
     "data": {
      "text/html": [
       "<div>\n",
       "<style scoped>\n",
       "    .dataframe tbody tr th:only-of-type {\n",
       "        vertical-align: middle;\n",
       "    }\n",
       "\n",
       "    .dataframe tbody tr th {\n",
       "        vertical-align: top;\n",
       "    }\n",
       "\n",
       "    .dataframe thead th {\n",
       "        text-align: right;\n",
       "    }\n",
       "</style>\n",
       "<table border=\"1\" class=\"dataframe\">\n",
       "  <thead>\n",
       "    <tr style=\"text-align: right;\">\n",
       "      <th></th>\n",
       "      <th>AverageLoadingTime</th>\n",
       "    </tr>\n",
       "  </thead>\n",
       "  <tbody>\n",
       "    <tr>\n",
       "      <th>0</th>\n",
       "      <td>234.536949</td>\n",
       "    </tr>\n",
       "  </tbody>\n",
       "</table>\n",
       "</div>"
      ],
      "text/plain": [
       "   AverageLoadingTime\n",
       "0          234.536949"
      ]
     },
     "execution_count": 14,
     "metadata": {},
     "output_type": "execute_result"
    }
   ],
   "source": [
    "df_avg_loading_spotting"
   ]
  },
  {
   "cell_type": "code",
   "execution_count": 15,
   "id": "eaf12c39",
   "metadata": {
    "scrolled": false
   },
   "outputs": [],
   "source": [
    "avg_spotting_query = (\n",
    "                '''\n",
    "                    SELECT AVG([Spotting]) AS AverageSpottingTime\n",
    "                    FROM [OperatorPerformance].[dbo].[DiggerOperatorPerformance]\n",
    "                '''\n",
    "    )"
   ]
  },
  {
   "cell_type": "code",
   "execution_count": 16,
   "id": "6e83d642",
   "metadata": {},
   "outputs": [
    {
     "name": "stderr",
     "output_type": "stream",
     "text": [
      "C:\\Users\\mnzunda\\AppData\\Local\\Temp\\ipykernel_35796\\4049302563.py:1: UserWarning: pandas only supports SQLAlchemy connectable (engine/connection) or database string URI or sqlite3 DBAPI2 connection. Other DBAPI2 objects are not tested. Please consider using SQLAlchemy.\n",
      "  df_avg_spotting = pd.read_sql(avg_spotting_query, conn)\n"
     ]
    }
   ],
   "source": [
    "df_avg_spotting = pd.read_sql(avg_spotting_query, conn)"
   ]
  },
  {
   "cell_type": "code",
   "execution_count": 17,
   "id": "7643401d",
   "metadata": {},
   "outputs": [
    {
     "data": {
      "text/html": [
       "<div>\n",
       "<style scoped>\n",
       "    .dataframe tbody tr th:only-of-type {\n",
       "        vertical-align: middle;\n",
       "    }\n",
       "\n",
       "    .dataframe tbody tr th {\n",
       "        vertical-align: top;\n",
       "    }\n",
       "\n",
       "    .dataframe thead th {\n",
       "        text-align: right;\n",
       "    }\n",
       "</style>\n",
       "<table border=\"1\" class=\"dataframe\">\n",
       "  <thead>\n",
       "    <tr style=\"text-align: right;\">\n",
       "      <th></th>\n",
       "      <th>AverageSpottingTime</th>\n",
       "    </tr>\n",
       "  </thead>\n",
       "  <tbody>\n",
       "    <tr>\n",
       "      <th>0</th>\n",
       "      <td>47.696796</td>\n",
       "    </tr>\n",
       "  </tbody>\n",
       "</table>\n",
       "</div>"
      ],
      "text/plain": [
       "   AverageSpottingTime\n",
       "0            47.696796"
      ]
     },
     "execution_count": 17,
     "metadata": {},
     "output_type": "execute_result"
    }
   ],
   "source": [
    "df_avg_spotting"
   ]
  }
 ],
 "metadata": {
  "kernelspec": {
   "display_name": "Python 3 (ipykernel)",
   "language": "python",
   "name": "python3"
  },
  "language_info": {
   "codemirror_mode": {
    "name": "ipython",
    "version": 3
   },
   "file_extension": ".py",
   "mimetype": "text/x-python",
   "name": "python",
   "nbconvert_exporter": "python",
   "pygments_lexer": "ipython3",
   "version": "3.11.1"
  }
 },
 "nbformat": 4,
 "nbformat_minor": 5
}
